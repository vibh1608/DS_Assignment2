{
 "cells": [
  {
   "cell_type": "code",
   "execution_count": 28,
   "metadata": {},
   "outputs": [
    {
     "name": "stdout",
     "output_type": "stream",
     "text": [
      "Enter the sequence of numbers seperated by comma: 4,6,1,2,89,12\n",
      "['4', '6', '1', '2', '89', '12']\n"
     ]
    }
   ],
   "source": [
    "#taking input from console in form of string\n",
    "s = input(\"Enter the sequence of numbers seperated by comma: \") \n",
    "\n",
    "#initialising list\n",
    "list = []  \n",
    "\n",
    "#spliting the string and storing numbers in list\n",
    "list=s.split(',')    \n",
    "\n",
    "#printing the list \n",
    "print(list)                                                     "
   ]
  },
  {
   "cell_type": "code",
   "execution_count": 29,
   "metadata": {},
   "outputs": [
    {
     "name": "stdout",
     "output_type": "stream",
     "text": [
      "* \n",
      "* * \n",
      "* * * \n",
      "* * * * \n",
      "* * * * * \n",
      "* * * * \n",
      "* * * \n",
      "* * \n",
      "* \n"
     ]
    }
   ],
   "source": [
    "#running outer loop\n",
    "for i in range(1,6):\n",
    "    \n",
    "    #inner loop \n",
    "    for j in range(1,i+1): \n",
    "        \n",
    "        #printing * pattern \n",
    "        print(\"*\", end=' ') \n",
    "        \n",
    "    #to change the line\n",
    "    print()\n",
    "    \n",
    "#running outer loop for below pattern \n",
    "for i in range(1,5):\n",
    "    \n",
    "    #inner loop\n",
    "    for j in range(1,5-i+1):\n",
    "        \n",
    "        #printing pattern \n",
    "        print(\"*\", end=' ')\n",
    "    \n",
    "    #to change the line\n",
    "    print()"
   ]
  },
  {
   "cell_type": "code",
   "execution_count": 30,
   "metadata": {},
   "outputs": [
    {
     "name": "stdout",
     "output_type": "stream",
     "text": [
      "Enter any word : AcadGild\n",
      "dliGdacA\n"
     ]
    }
   ],
   "source": [
    "#taking input string from user\n",
    "string = input(\"Enter any word : \")\n",
    "\n",
    "#reversing the string\n",
    "rev = string[::-1]\n",
    "\n",
    "#printing the string\n",
    "print(rev)"
   ]
  },
  {
   "cell_type": "code",
   "execution_count": 50,
   "metadata": {},
   "outputs": [
    {
     "name": "stdout",
     "output_type": "stream",
     "text": [
      "WE, THE PEOPLE OF INDIA,\n",
      "      having solemnly resolved to constitute India into a SOVEREIGN,!\n",
      "\t     SOCIALIST, SECULAR, DEMOCRATIC REPUBLIC\n",
      "\t       and to secure to all its citizens\n"
     ]
    }
   ],
   "source": [
    "#storing string in variable stri\n",
    "stri = \"WE, THE PEOPLE OF INDIA,\\n      having solemnly resolved to constitute India into a SOVEREIGN,!\\n\\t     SOCIALIST, SECULAR, DEMOCRATIC REPUBLIC\\n\\t       and to secure to all its citizens\"\n",
    "\n",
    "#printing the string in given format\n",
    "print(stri)"
   ]
  }
 ],
 "metadata": {
  "kernelspec": {
   "display_name": "Python 3",
   "language": "python",
   "name": "python3"
  },
  "language_info": {
   "codemirror_mode": {
    "name": "ipython",
    "version": 3
   },
   "file_extension": ".py",
   "mimetype": "text/x-python",
   "name": "python",
   "nbconvert_exporter": "python",
   "pygments_lexer": "ipython3",
   "version": "3.7.0"
  }
 },
 "nbformat": 4,
 "nbformat_minor": 2
}
